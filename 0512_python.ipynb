{
  "nbformat": 4,
  "nbformat_minor": 0,
  "metadata": {
    "colab": {
      "provenance": []
    },
    "kernelspec": {
      "name": "python3",
      "display_name": "Python 3"
    },
    "language_info": {
      "name": "python"
    }
  },
  "cells": [
    {
      "cell_type": "markdown",
      "source": [
        "# colab\n",
        "- google id만 있으면 ram을 12G, disk를 100G나 되는 원격 컴퓨터를 무료로 준다!\n",
        "- 여기에는 Python 환경이 모두 설정이 되어 있어서 별도의 설정이 필요 없다!\n",
        "- google drive가 자동 연동되어서 별도로 다운로드 해서 저장할 필요가 없다!\n",
        "- Ctrl + Enter : 현재 셀 실행\n",
        "- Alt + Enter : 현재 셀 실행 + 아래 셀 하나 만들기"
      ],
      "metadata": {
        "id": "rCPQ1ADIIsOh"
      }
    },
    {
      "cell_type": "code",
      "source": [],
      "metadata": {
        "id": "vbW7jzR-JtzM"
      },
      "execution_count": null,
      "outputs": []
    },
    {
      "cell_type": "markdown",
      "source": [
        "## 마크업과 마크다운\n",
        "\n",
        "- HTML은 웹 브라우저나 고급 문서를 표현\n",
        "<h1>hello world</h1>\n",
        "<h2>hello world</h2>\n",
        "<p>hello world</p>\n",
        "\n",
        "- Markdown은 서식이 필요치 않은 문서를 표현\n",
        "# hello world\n",
        "## hello world\n",
        "\n",
        "## 마크다운 문법(우리가 사용할 문법)\n",
        "# hello world\n",
        "## hello world\n",
        "### hello world\n",
        "\n",
        "- hello world\n",
        "- hello world\n",
        "- hello world\n",
        "\n",
        "1. hello world\n",
        "2. hello world\n",
        "3. hello world"
      ],
      "metadata": {
        "id": "mc_EKW3NFWFt"
      }
    },
    {
      "cell_type": "markdown",
      "source": [
        "# range"
      ],
      "metadata": {
        "id": "gfgJq7SGQd5Y"
      }
    },
    {
      "cell_type": "code",
      "source": [
        "i = [10,20,30,40]\n",
        "i # 이렇게 마지막 라인에 한하여 print를 안해도 출력이 됩니다."
      ],
      "metadata": {
        "colab": {
          "base_uri": "https://localhost:8080/"
        },
        "id": "fP5z5tjIJ0Gc",
        "outputId": "06d56c7f-7ef8-45d5-ff8d-b34dd423859e"
      },
      "execution_count": null,
      "outputs": [
        {
          "output_type": "execute_result",
          "data": {
            "text/plain": [
              "[10, 20, 30, 40]"
            ]
          },
          "metadata": {},
          "execution_count": 1
        }
      ]
    },
    {
      "cell_type": "code",
      "source": [
        "range(0, 10)\n",
        "# [0,1,2,3,4,5,6,7,8,9] # 아니? 이렇게 왜 안나오는거지?\n",
        "type(range(0, 10))"
      ],
      "metadata": {
        "colab": {
          "base_uri": "https://localhost:8080/"
        },
        "id": "ZDYNKyRfKvBB",
        "outputId": "808adc62-56cf-49ff-a70d-93d09f6a6489"
      },
      "execution_count": null,
      "outputs": [
        {
          "output_type": "execute_result",
          "data": {
            "text/plain": [
              "range"
            ]
          },
          "metadata": {},
          "execution_count": 2
        }
      ]
    },
    {
      "cell_type": "code",
      "source": [
        "# range()는 python 2.x에서는 list였습니다.\n",
        "type(range(0, 10)) # 왜 range라는 타입일까요?"
      ],
      "metadata": {
        "id": "XWd1iPqBLbL3"
      },
      "execution_count": null,
      "outputs": []
    },
    {
      "cell_type": "code",
      "source": [
        "# 파이썬은 속도를 올리기 위한 작업을 매 버전마다 해왔습니다.\n",
        "# 그래서 최종 목표는 C의 속도를 따라잡는 것입니다.\n",
        "# range(100000000000000) 이렇게 데이터를 생성한다고 생각해보세요.\n",
        "# 0~100000000000000에 숫자를 모두 메모리에 올려야 합니다.\n",
        "# xrange()라는 것을 만들어서 만들어서 이를 해결했습니다.\n",
        "# xrange는 숫자를 생성하지 않고, start, stop, step 값으로 호출을 할 때 하나씩 생성을 하는 방식을 새롭게 도입했습니다.\n",
        "# xrange가 3.x로 오면서 range가 된 것입니다!"
      ],
      "metadata": {
        "id": "RPH2mP_NLob_"
      },
      "execution_count": null,
      "outputs": []
    },
    {
      "cell_type": "code",
      "source": [
        "# range()의 인덱싱\n",
        "range(100)[3]\n",
        "range(100, 1000, 100)[3]"
      ],
      "metadata": {
        "colab": {
          "base_uri": "https://localhost:8080/"
        },
        "id": "QCwwVm_SPg97",
        "outputId": "ecdf0ce0-9851-4ec9-a45b-96963876fba9"
      },
      "execution_count": null,
      "outputs": [
        {
          "output_type": "execute_result",
          "data": {
            "text/plain": [
              "400"
            ]
          },
          "metadata": {},
          "execution_count": 3
        }
      ]
    },
    {
      "cell_type": "code",
      "source": [
        "# range()의 슬라이싱\n",
        "range(100)[1:10]"
      ],
      "metadata": {
        "colab": {
          "base_uri": "https://localhost:8080/"
        },
        "id": "Fh1T9IfVPvt1",
        "outputId": "0f5c7fc5-77d5-4b79-98a0-ab4004d82624"
      },
      "execution_count": null,
      "outputs": [
        {
          "output_type": "execute_result",
          "data": {
            "text/plain": [
              "range(1, 10)"
            ]
          },
          "metadata": {},
          "execution_count": 4
        }
      ]
    },
    {
      "cell_type": "code",
      "source": [
        "# range의 step 음수 값\n",
        "list(range(100, 9, -10))"
      ],
      "metadata": {
        "colab": {
          "base_uri": "https://localhost:8080/"
        },
        "id": "80Lxk2CsP_eT",
        "outputId": "8cc63489-9f81-4636-9ab1-03421144b3d3"
      },
      "execution_count": null,
      "outputs": [
        {
          "output_type": "execute_result",
          "data": {
            "text/plain": [
              "[100, 90, 80, 70, 60, 50, 40, 30, 20, 10]"
            ]
          },
          "metadata": {},
          "execution_count": 7
        }
      ]
    },
    {
      "cell_type": "markdown",
      "source": [
        "# function"
      ],
      "metadata": {
        "id": "pQAbf0R3QhTz"
      }
    },
    {
      "cell_type": "code",
      "source": [
        "def hello():\n",
        "    x = 10\n",
        "    y = 20\n",
        "    return x + y"
      ],
      "metadata": {
        "id": "heOTqoidQlUt"
      },
      "execution_count": null,
      "outputs": []
    },
    {
      "cell_type": "code",
      "source": [
        "# hello라는 것은 무엇일까?\n",
        "# print라는 것은 무엇일까?\n",
        "\n",
        "# hello든 print든 변수입니다! 함수의 이름은 변수입니다."
      ],
      "metadata": {
        "id": "FsECKIYlQwEe"
      },
      "execution_count": null,
      "outputs": []
    },
    {
      "cell_type": "code",
      "source": [
        "a = print\n",
        "a('hello world')"
      ],
      "metadata": {
        "colab": {
          "base_uri": "https://localhost:8080/"
        },
        "id": "Aa-xsv64Q8Kf",
        "outputId": "102d672f-d312-4c07-b31b-cfde0060d44c"
      },
      "execution_count": null,
      "outputs": [
        {
          "output_type": "stream",
          "name": "stdout",
          "text": [
            "hello world\n"
          ]
        }
      ]
    },
    {
      "cell_type": "code",
      "source": [
        "l = [a,a,a,a,a]\n",
        "l[0]('hello')"
      ],
      "metadata": {
        "colab": {
          "base_uri": "https://localhost:8080/"
        },
        "id": "FSj2izmdRDk5",
        "outputId": "da3aca95-1d32-468e-88e0-d4364ff5143e"
      },
      "execution_count": null,
      "outputs": [
        {
          "output_type": "stream",
          "name": "stdout",
          "text": [
            "hello\n"
          ]
        }
      ]
    },
    {
      "cell_type": "markdown",
      "source": [
        "# 변수"
      ],
      "metadata": {
        "id": "i9g1oMZfR1n7"
      }
    },
    {
      "cell_type": "code",
      "source": [
        "a = 10\n",
        "b = a\n",
        "c = b\n",
        "c\n",
        "# 화살표는 어떻게 그려지는 것일까요?\n",
        "# 1번: c -> b -> a -> 10\n",
        "#   a -> 10\n",
        "#   b -> 10\n",
        "#   c -> 10"
      ],
      "metadata": {
        "colab": {
          "base_uri": "https://localhost:8080/"
        },
        "id": "XePBPlU8R5RP",
        "outputId": "58cbcf2f-b876-48d3-b4b2-f371c0405e89"
      },
      "execution_count": null,
      "outputs": [
        {
          "output_type": "execute_result",
          "data": {
            "text/plain": [
              "10"
            ]
          },
          "metadata": {},
          "execution_count": 10
        }
      ]
    },
    {
      "cell_type": "code",
      "source": [
        "a = 10\n",
        "b = a\n",
        "c = b\n",
        "c"
      ],
      "metadata": {
        "colab": {
          "base_uri": "https://localhost:8080/"
        },
        "id": "-W7gTMwGSmkE",
        "outputId": "74199345-8529-45a9-a86c-9908740a83d6"
      },
      "execution_count": null,
      "outputs": [
        {
          "output_type": "execute_result",
          "data": {
            "text/plain": [
              "10"
            ]
          },
          "metadata": {},
          "execution_count": 11
        }
      ]
    },
    {
      "cell_type": "code",
      "source": [
        "b = 100\n",
        "c"
      ],
      "metadata": {
        "colab": {
          "base_uri": "https://localhost:8080/"
        },
        "id": "hLP9MpbTSrT7",
        "outputId": "999f7533-a1e3-4321-c052-1538830dda5d"
      },
      "execution_count": null,
      "outputs": [
        {
          "output_type": "execute_result",
          "data": {
            "text/plain": [
              "10"
            ]
          },
          "metadata": {},
          "execution_count": 12
        }
      ]
    },
    {
      "cell_type": "markdown",
      "source": [
        "# type, dir, id\n",
        "- type은 앞으로도 자주 사용됩니다. 왜냐하면 우리가 앞으로 사용할 데이터 자료형은 기본 자료형이 아닌 경우가 많기 때문입니다."
      ],
      "metadata": {
        "id": "ZRY2Ght7T-nx"
      }
    },
    {
      "cell_type": "code",
      "source": [
        "l = [10, 20, 30, 40]\n",
        "print(type(l)) # print와 print를 안하는 것은 왜 차이가 있죠?"
      ],
      "metadata": {
        "colab": {
          "base_uri": "https://localhost:8080/"
        },
        "id": "uzgCVJixUTYz",
        "outputId": "770d5acb-ae14-4808-ff65-058432878fc0"
      },
      "execution_count": null,
      "outputs": [
        {
          "output_type": "stream",
          "name": "stdout",
          "text": [
            "<class 'list'>\n"
          ]
        }
      ]
    },
    {
      "cell_type": "code",
      "source": [
        "a = 10\n",
        "print(type(a))"
      ],
      "metadata": {
        "colab": {
          "base_uri": "https://localhost:8080/"
        },
        "id": "W1a2z93-Uo30",
        "outputId": "c25a4404-2866-4f79-d263-2afcbb377773"
      },
      "execution_count": null,
      "outputs": [
        {
          "output_type": "stream",
          "name": "stdout",
          "text": [
            "<class 'int'>\n"
          ]
        }
      ]
    },
    {
      "cell_type": "code",
      "source": [
        "# 예 1) 보기에 10으로 보인다고 해서 자료형을 int라고 생각하지 말것\n",
        "import numpy as np\n",
        "data = np.array(1)\n",
        "print(type(data))"
      ],
      "metadata": {
        "colab": {
          "base_uri": "https://localhost:8080/"
        },
        "id": "MFfkuCvvVIsa",
        "outputId": "ad7f0194-dc7a-4c31-e657-1a9d784bb2f0"
      },
      "execution_count": null,
      "outputs": [
        {
          "output_type": "stream",
          "name": "stdout",
          "text": [
            "<class 'numpy.ndarray'>\n"
          ]
        }
      ]
    },
    {
      "cell_type": "code",
      "source": [
        "# 예 2) 타입을 확인해야 하는 이유는 아래와 같아요. 기본 연산이 다르기 때문이다.\n",
        "print([1, 2, 3] + [4, 5, 6])\n",
        "print(np.array([1, 2, 3]) + np.array([4, 5, 6]))"
      ],
      "metadata": {
        "colab": {
          "base_uri": "https://localhost:8080/"
        },
        "id": "y263VyIuVshQ",
        "outputId": "76abfcba-1e7e-4639-c5ae-4978c155f71e"
      },
      "execution_count": null,
      "outputs": [
        {
          "output_type": "stream",
          "name": "stdout",
          "text": [
            "[1, 2, 3, 4, 5, 6]\n",
            "[5 7 9]\n"
          ]
        }
      ]
    },
    {
      "cell_type": "markdown",
      "source": [
        "# function"
      ],
      "metadata": {
        "id": "uPWSdhmM5IX_"
      }
    },
    {
      "cell_type": "code",
      "source": [
        "# function이라는 것이 왜 필요했을까?\n",
        "x = 10\n",
        "y = 20\n",
        "print(x + y)\n",
        "\n",
        "a = 10\n",
        "\n"
      ],
      "metadata": {
        "id": "hQ78t-_L5LdX"
      },
      "execution_count": null,
      "outputs": []
    },
    {
      "cell_type": "code",
      "source": [
        "def xysum(x, y):\n",
        "    return x + y\n",
        "\n",
        "xysum(10, 20)"
      ],
      "metadata": {
        "colab": {
          "base_uri": "https://localhost:8080/"
        },
        "id": "g9iFsKfX7r-L",
        "outputId": "9fe39e36-d376-421a-c5db-4082edfdf5ae"
      },
      "execution_count": null,
      "outputs": [
        {
          "output_type": "execute_result",
          "data": {
            "text/plain": [
              "30"
            ]
          },
          "metadata": {},
          "execution_count": 33
        }
      ]
    },
    {
      "cell_type": "code",
      "source": [
        "# 문제1: 주식 그래프를 그리려고 한다.\n",
        "# 주식 그래프는 2x + 15와 같은 형식으로 그려지고 x는 10이라고 주어졌을 때, y값이 얼마인지 구하는 함수를 만드세요.\n",
        "\n",
        "def solution(x):\n",
        "    return 2 * x + 15\n",
        "\n",
        "solution(10)\n",
        "\n"
      ],
      "metadata": {
        "colab": {
          "base_uri": "https://localhost:8080/"
        },
        "id": "vKEWN1PG_9XH",
        "outputId": "a5e8d645-7173-4c91-e1f1-70e50d8f65a2"
      },
      "execution_count": null,
      "outputs": [
        {
          "output_type": "execute_result",
          "data": {
            "text/plain": [
              "35"
            ]
          },
          "metadata": {},
          "execution_count": 35
        }
      ]
    },
    {
      "cell_type": "code",
      "source": [
        "# 문제2: [10, 20, 30] + [1, 2, 3]이라고 했을 때 이 두 행렬을 요소별로 더하는 함수를 만드세요.\n",
        "\n",
        "def solution(a, b):\n",
        "    result = []\n",
        "    for i in range(3):\n",
        "        result.append(a[i]+b[i])\n",
        "    return result\n",
        "\n",
        "solution([10, 20, 30], [1, 2, 3])"
      ],
      "metadata": {
        "colab": {
          "base_uri": "https://localhost:8080/"
        },
        "id": "bKqPnA3DANGz",
        "outputId": "a4ff0c3a-8a7d-4a77-da69-738328cf9e18"
      },
      "execution_count": null,
      "outputs": [
        {
          "output_type": "execute_result",
          "data": {
            "text/plain": [
              "[11, 22, 33]"
            ]
          },
          "metadata": {},
          "execution_count": 36
        }
      ]
    },
    {
      "cell_type": "code",
      "source": [
        "def solution(a, b):\n",
        "    for i, v in enumerate(a):\n",
        "        a[i] = v + b[i]\n",
        "    return a\n",
        "\n",
        "solution([10, 20, 30], [1, 2, 3])"
      ],
      "metadata": {
        "colab": {
          "base_uri": "https://localhost:8080/"
        },
        "id": "fdj05MqqL_sQ",
        "outputId": "569ea1fd-cfeb-4b14-ca96-8b8a9f4501f1"
      },
      "execution_count": null,
      "outputs": [
        {
          "output_type": "execute_result",
          "data": {
            "text/plain": [
              "[11, 22, 33]"
            ]
          },
          "metadata": {},
          "execution_count": 42
        }
      ]
    },
    {
      "cell_type": "code",
      "source": [
        "# 관습적으로 안쓰는 코드는 변수 _ 에 할당합니다.\n",
        "def solution(a, b):\n",
        "    result = []\n",
        "    for i, _ in enumerate(a):\n",
        "        result.append(a[i]+b[i])\n",
        "    return result\n",
        "\n",
        "solution([10, 20, 30], [1, 2, 3])"
      ],
      "metadata": {
        "colab": {
          "base_uri": "https://localhost:8080/"
        },
        "id": "-T8y-rXhMiE3",
        "outputId": "615fc09e-79d7-4dd9-94c0-2fc04f5f6e65"
      },
      "execution_count": null,
      "outputs": [
        {
          "output_type": "execute_result",
          "data": {
            "text/plain": [
              "[11, 22, 33]"
            ]
          },
          "metadata": {},
          "execution_count": 41
        }
      ]
    },
    {
      "cell_type": "code",
      "source": [
        "list(map(sum, zip([10, 20, 30], [1, 2, 3])))"
      ],
      "metadata": {
        "colab": {
          "base_uri": "https://localhost:8080/"
        },
        "id": "a7hBHNgcNmPj",
        "outputId": "92c2094c-d5ec-455c-f4a6-d5af71c48d96"
      },
      "execution_count": null,
      "outputs": [
        {
          "output_type": "execute_result",
          "data": {
            "text/plain": [
              "[11, 22, 33]"
            ]
          },
          "metadata": {},
          "execution_count": 44
        }
      ]
    },
    {
      "cell_type": "code",
      "source": [
        "# 문제3: 행렬(리스트의 리스트)의 모든 요소에 특정 숫자를 곱하는 함수를 만드세요.\n",
        "# 예: [1, 2, 3, 4] * 2 = [2, 4, 6, 8]\n",
        "\n",
        "def solution(matrix, multiplier):\n",
        "    result = []\n",
        "    for i in matrix:\n",
        "       result.append(i * multiplier)\n",
        "    return result\n",
        "\n",
        "solution([1, 2, 3, 4], 2)"
      ],
      "metadata": {
        "colab": {
          "base_uri": "https://localhost:8080/"
        },
        "id": "b0bJGCMOCFrL",
        "outputId": "e4f7fc2c-f4d9-4af3-ba99-44263c1bcfe0"
      },
      "execution_count": null,
      "outputs": [
        {
          "output_type": "execute_result",
          "data": {
            "text/plain": [
              "[2, 4, 6, 8]"
            ]
          },
          "metadata": {},
          "execution_count": 45
        }
      ]
    },
    {
      "cell_type": "code",
      "source": [
        "# 리스트 컴프리헨션 : 리스트를 짧고 간결하게 생성하는 문법\n",
        "def solution(matrix, multiplier):\n",
        "    return [i * multiplier for i in matrix]\n",
        "\n",
        "solution([1, 2, 3, 4], 2)"
      ],
      "metadata": {
        "colab": {
          "base_uri": "https://localhost:8080/"
        },
        "id": "nbkwACvoO41v",
        "outputId": "52b44902-d765-4c4f-83b5-0854713d9287"
      },
      "execution_count": null,
      "outputs": [
        {
          "output_type": "execute_result",
          "data": {
            "text/plain": [
              "[2, 4, 6, 8]"
            ]
          },
          "metadata": {},
          "execution_count": 46
        }
      ]
    },
    {
      "cell_type": "code",
      "source": [
        "# 문제4 :정수가 담긴 리스트 num_list가 주어집니다. num_list의 홀수만 순서대로 이어 붙인 수와 짝수만 순서대로 이어 붙인 수의 합을 return하도록 solution 함수를 완성해주세요.\n",
        "# 2 ≤ num_list의 길이 ≤ 10\n",
        "# 1 ≤ num_list의 원소 ≤ 9\n",
        "# num_list에는 적어도 한 개씩의 짝수와 홀수가 있습니다.\n",
        "\n",
        "def solution(num_list):\n",
        "    even = ''\n",
        "    odd = ''\n",
        "    for num in num_list:\n",
        "        if num % 2 == 0:\n",
        "            even += str(num)\n",
        "        else:\n",
        "            odd += str(num)\n",
        "    return int(odd)+int(even)\n",
        "\n",
        "solution([3, 4, 5, 2, 1])\n",
        "# solution([5, 7, 8, 3])"
      ],
      "metadata": {
        "colab": {
          "base_uri": "https://localhost:8080/"
        },
        "id": "kuQmdRibEUWM",
        "outputId": "6a349355-86fb-41f5-bf66-a6100454aa55"
      },
      "execution_count": null,
      "outputs": [
        {
          "output_type": "execute_result",
          "data": {
            "text/plain": [
              "393"
            ]
          },
          "metadata": {},
          "execution_count": 40
        }
      ]
    },
    {
      "cell_type": "markdown",
      "source": [],
      "metadata": {
        "id": "DLEUraCnCEKB"
      }
    },
    {
      "cell_type": "markdown",
      "source": [
        "# Built-in Functions : 내장 함수\n",
        "\n",
        "* 링크: https://docs.python.org/3/library/functions.html"
      ],
      "metadata": {
        "id": "qVPmeuO5WsdI"
      }
    },
    {
      "cell_type": "code",
      "source": [
        "# 기능\n",
        "abs\n",
        "all\n",
        "any\n",
        "bin\n",
        "enumerate\n",
        "len\n",
        "format\n",
        "input\n",
        "range\n",
        "\n",
        "sorted\n",
        "reversed\n",
        "\n",
        "filter\n",
        "map\n",
        "zip\n",
        "\n",
        "# isinstance\n",
        "# issubclass\n",
        "\n",
        "iter\n",
        "next\n",
        "\n",
        "\n",
        "locals\n",
        "globals\n",
        "\n",
        "max\n",
        "min\n",
        "sum\n",
        "\n"
      ],
      "metadata": {
        "id": "fJGHt0vNk2ZW"
      },
      "execution_count": null,
      "outputs": []
    },
    {
      "cell_type": "code",
      "source": [
        "abs(-10) # 절대값\n",
        "all([True, True, False]) # 안에 있는 값이 모두 True여야 True\n",
        "any([True, True, False]) # 하나라도 True이면 True\n",
        "bin(10) # 2진수로 바꿔줌. 알고리즘 문제에서 간혹 출제\n",
        "# enumerate\n",
        "# len\n",
        "#format\n",
        "# input\n",
        "# range"
      ],
      "metadata": {
        "colab": {
          "base_uri": "https://localhost:8080/",
          "height": 35
        },
        "id": "a13FDRpCmGPt",
        "outputId": "2e683d49-15b1-49eb-f910-ed5af52618ea"
      },
      "execution_count": null,
      "outputs": [
        {
          "output_type": "execute_result",
          "data": {
            "text/plain": [
              "'0b1010'"
            ],
            "application/vnd.google.colaboratory.intrinsic+json": {
              "type": "string"
            }
          },
          "metadata": {},
          "execution_count": 32
        }
      ]
    },
    {
      "cell_type": "code",
      "source": [
        "# 자료형을 만드는 built-in functions\n",
        "# int\n",
        "# float\n",
        "# str"
      ],
      "metadata": {
        "id": "Ic0BMXUklFfI"
      },
      "execution_count": null,
      "outputs": []
    },
    {
      "cell_type": "code",
      "source": [
        "# 이게 왜 중요할까?\n",
        "l = [1, 2, 3, 4]\n",
        "dir(l) # 메서드 + 멤버\n",
        "\n"
      ],
      "metadata": {
        "colab": {
          "base_uri": "https://localhost:8080/"
        },
        "collapsed": true,
        "id": "5iGLqoKMWg5x",
        "outputId": "b189c73d-2618-4f22-c698-7a96b24bd92f"
      },
      "execution_count": null,
      "outputs": [
        {
          "output_type": "execute_result",
          "data": {
            "text/plain": [
              "['__add__',\n",
              " '__class__',\n",
              " '__class_getitem__',\n",
              " '__contains__',\n",
              " '__delattr__',\n",
              " '__delitem__',\n",
              " '__dir__',\n",
              " '__doc__',\n",
              " '__eq__',\n",
              " '__format__',\n",
              " '__ge__',\n",
              " '__getattribute__',\n",
              " '__getitem__',\n",
              " '__getstate__',\n",
              " '__gt__',\n",
              " '__hash__',\n",
              " '__iadd__',\n",
              " '__imul__',\n",
              " '__init__',\n",
              " '__init_subclass__',\n",
              " '__iter__',\n",
              " '__le__',\n",
              " '__len__',\n",
              " '__lt__',\n",
              " '__mul__',\n",
              " '__ne__',\n",
              " '__new__',\n",
              " '__reduce__',\n",
              " '__reduce_ex__',\n",
              " '__repr__',\n",
              " '__reversed__',\n",
              " '__rmul__',\n",
              " '__setattr__',\n",
              " '__setitem__',\n",
              " '__sizeof__',\n",
              " '__str__',\n",
              " '__subclasshook__',\n",
              " 'append',\n",
              " 'clear',\n",
              " 'copy',\n",
              " 'count',\n",
              " 'extend',\n",
              " 'index',\n",
              " 'insert',\n",
              " 'pop',\n",
              " 'remove',\n",
              " 'reverse',\n",
              " 'sort']"
            ]
          },
          "metadata": {},
          "execution_count": 19
        }
      ]
    },
    {
      "cell_type": "code",
      "source": [
        "# 이 빌트인 펑션이 왜 중요하냐? 앞으로 보게될 자료형들은 새롭게 만나는 자료형임.\n",
        "# 예를 들어, 아래 타입을 한 번 살펴보자\n",
        "import numpy as np\n",
        "data = np.array([[10, 20, 30],[40, 50, 60]])\n",
        "# dir(data)\n",
        "\n",
        "# 아래 목록만 봐도 어떤 자료형인지 짐작할 수 있고, 원하는 메서드를 바로 발견할 수도 있다.\n",
        "print(data.T)"
      ],
      "metadata": {
        "colab": {
          "base_uri": "https://localhost:8080/"
        },
        "collapsed": true,
        "id": "lyCduS05YKgN",
        "outputId": "0d2e1c6b-d2d7-45e7-dd3b-c47a2e4acbeb"
      },
      "execution_count": null,
      "outputs": [
        {
          "output_type": "stream",
          "name": "stdout",
          "text": [
            "[[10 40]\n",
            " [20 50]\n",
            " [30 60]]\n"
          ]
        }
      ]
    },
    {
      "cell_type": "code",
      "source": [
        "a = 10\n",
        "b = a\n",
        "c = b\n",
        "# 화살표는 어떻게 그렸죠?\n",
        "id(a), id(b), id(c)\n",
        "# id는 해당 변수가 가리키고 있는 최종 목적지"
      ],
      "metadata": {
        "colab": {
          "base_uri": "https://localhost:8080/"
        },
        "id": "vJuDNRcjdFUB",
        "outputId": "37f02e46-9811-44f2-dc4f-6be7a711b605"
      },
      "execution_count": null,
      "outputs": [
        {
          "output_type": "execute_result",
          "data": {
            "text/plain": [
              "(10751144, 10751144, 10751144)"
            ]
          },
          "metadata": {},
          "execution_count": 24
        }
      ]
    },
    {
      "cell_type": "code",
      "source": [
        "a = 10\n",
        "b = 10\n",
        "id(a), id(b)\n",
        "# 다른 언어에서는 이 값이 다름. 그러면 파이썬에서는 같은가요? 아니다\n",
        "# 파이썬은 -5~256 사이의 정수는 미리 메모르에 올려두고, 이 범위의 정수를 변수에 할당하면 **항상 같은 객체(id)**를 참조하게 한다.\n",
        "# 이 범위를 벗어난 정수(예: 10000)는 매번 새로운 객체로 만들어진다."
      ],
      "metadata": {
        "id": "ycYylEFTeImk"
      },
      "execution_count": null,
      "outputs": []
    },
    {
      "cell_type": "markdown",
      "source": [
        "# print와 print를 안하는 것에 차이"
      ],
      "metadata": {
        "id": "WlUCFx8hfAkd"
      }
    },
    {
      "cell_type": "code",
      "source": [
        "# 아직 class를 안배웠지만, 이 차이를 설명하기 위해 아래 코드를 사용\n",
        "class CustomInt:\n",
        "    def __repr__(self):\n",
        "        return 'hello'\n",
        "\n",
        "    def __str__(self):\n",
        "        return 'hello world'\n",
        "a = CustomInt()\n",
        "a"
      ],
      "metadata": {
        "colab": {
          "base_uri": "https://localhost:8080/"
        },
        "id": "VUiIpdYefEZi",
        "outputId": "315c19f6-9f1c-448b-a674-3a160d9891c3"
      },
      "execution_count": null,
      "outputs": [
        {
          "output_type": "execute_result",
          "data": {
            "text/plain": [
              "hello"
            ]
          },
          "metadata": {},
          "execution_count": 31
        }
      ]
    },
    {
      "cell_type": "code",
      "source": [
        "print(a)"
      ],
      "metadata": {
        "colab": {
          "base_uri": "https://localhost:8080/"
        },
        "id": "TjL6eLvsfgM7",
        "outputId": "7e6246d3-66c7-4ec5-dcd5-e74ad5eecce8"
      },
      "execution_count": null,
      "outputs": [
        {
          "output_type": "stream",
          "name": "stdout",
          "text": [
            "hello\n"
          ]
        }
      ]
    },
    {
      "cell_type": "code",
      "source": [
        "# print >> 해당 인스턴스에 __str__ 호출\n",
        "# 그냥 출력 >> 해당 인스턴스에 __ repr__ 호출\n",
        "a = 10\n",
        "dir(a)\n",
        "\n",
        "# a.__str__() # print로 출력! 했을 때 실제 실행되는 함수\n",
        "# a.__repr__() # 그냥 출력! 했을 때 실제 실행되는 함수"
      ],
      "metadata": {
        "id": "KlBsPDnCjEVP"
      },
      "execution_count": null,
      "outputs": []
    },
    {
      "cell_type": "markdown",
      "source": [
        "# 25.05.12 과제"
      ],
      "metadata": {
        "id": "UsQSscmZkF1r"
      }
    },
    {
      "cell_type": "code",
      "source": [
        "# 문제1: 두 수를 더하는 함수를 만드세요.\n",
        "def solution(a, b):\n",
        "    return a + b\n",
        "\n",
        "solution(5, 3)  # 결과: 8"
      ],
      "metadata": {
        "colab": {
          "base_uri": "https://localhost:8080/"
        },
        "id": "lQwehCKekKOK",
        "outputId": "83595f5a-3836-477a-ff62-99acc005d1b4"
      },
      "execution_count": null,
      "outputs": [
        {
          "output_type": "execute_result",
          "data": {
            "text/plain": [
              "8"
            ]
          },
          "metadata": {},
          "execution_count": 47
        }
      ]
    },
    {
      "cell_type": "code",
      "source": [
        "# 문제2: 두 수를 곱하는 함수를 만드세요.\n",
        "def solution(a, b):\n",
        "    return a * b\n",
        "\n",
        "solution(4, 7)  # 결과: 28"
      ],
      "metadata": {
        "id": "v1uQ0frilkdF"
      },
      "execution_count": null,
      "outputs": []
    },
    {
      "cell_type": "code",
      "source": [
        "# 문제3: 리스트의 모든 숫자를 더하는 함수를 만드세요.\n",
        "def solution(numbers):\n",
        "    return sum(numbers)\n",
        "\n",
        "\n",
        "solution([1, 2, 3, 4, 5])  # 결과: 15"
      ],
      "metadata": {
        "colab": {
          "base_uri": "https://localhost:8080/"
        },
        "id": "6S6Eb8_DlvwX",
        "outputId": "f1885428-f080-4709-8f7a-e36c3fd33bb5"
      },
      "execution_count": null,
      "outputs": [
        {
          "output_type": "execute_result",
          "data": {
            "text/plain": [
              "15"
            ]
          },
          "metadata": {},
          "execution_count": 48
        }
      ]
    },
    {
      "cell_type": "code",
      "source": [
        "# 문제4: 리스트의 평균값을 계산하는 함수를 만드세요.\n",
        "def solution(numbers):\n",
        "    return sum(numbers) / len(numbers)\n",
        "\n",
        "solution([10, 20, 30, 40])  # 결과: 25.0"
      ],
      "metadata": {
        "colab": {
          "base_uri": "https://localhost:8080/"
        },
        "id": "i1KW9h_9mLDa",
        "outputId": "5937116c-fa3f-44ef-8d67-73734d0a08a3"
      },
      "execution_count": null,
      "outputs": [
        {
          "output_type": "execute_result",
          "data": {
            "text/plain": [
              "25.0"
            ]
          },
          "metadata": {},
          "execution_count": 49
        }
      ]
    },
    {
      "cell_type": "code",
      "source": [
        "# 문제5: 문자열의 길이를 반환하는 함수를 만드세요.\n",
        "def solution(text):\n",
        "    return len(text)\n",
        "\n",
        "solution(\"파이썬\")  # 결과: 3"
      ],
      "metadata": {
        "colab": {
          "base_uri": "https://localhost:8080/"
        },
        "id": "XcaYz7oZmkyi",
        "outputId": "887eba6a-2c64-4280-9e44-419f95e3b0bf"
      },
      "execution_count": null,
      "outputs": [
        {
          "output_type": "execute_result",
          "data": {
            "text/plain": [
              "3"
            ]
          },
          "metadata": {},
          "execution_count": 50
        }
      ]
    },
    {
      "cell_type": "code",
      "source": [
        "# 문제6: 리스트에서 가장 큰 수를 찾는 함수를 만드세요.\n",
        "def solution(numbers):\n",
        "    return max(numbers)\n",
        "\n",
        "solution([7, 12, 3, 8, 4])  # 결과: 12"
      ],
      "metadata": {
        "colab": {
          "base_uri": "https://localhost:8080/"
        },
        "id": "K3MHp7Rlmu9P",
        "outputId": "2cd0636d-398e-47da-ccb8-a5479cffa0b8"
      },
      "execution_count": null,
      "outputs": [
        {
          "output_type": "execute_result",
          "data": {
            "text/plain": [
              "12"
            ]
          },
          "metadata": {},
          "execution_count": 51
        }
      ]
    },
    {
      "cell_type": "code",
      "source": [
        "# 문제7: 리스트에서 가장 작은 수를 찾는 함수를 만드세요.\n",
        "def solution(numbers):\n",
        "    return min(numbers)\n",
        "\n",
        "solution([7, 12, 3, 8, 4])  # 결과: 3"
      ],
      "metadata": {
        "colab": {
          "base_uri": "https://localhost:8080/"
        },
        "id": "BZZaEDNdm_MT",
        "outputId": "a2da4f50-1fb1-445c-f6c1-568f677eada0"
      },
      "execution_count": null,
      "outputs": [
        {
          "output_type": "execute_result",
          "data": {
            "text/plain": [
              "3"
            ]
          },
          "metadata": {},
          "execution_count": 52
        }
      ]
    },
    {
      "cell_type": "code",
      "source": [
        "# 문제8: 문자열을 n번 반복하는 함수를 만드세요.\n",
        "def solution(text, n):\n",
        "    return text * n\n",
        "\n",
        "solution(\"안녕\", 3)  # 결과: \"안녕안녕안녕\""
      ],
      "metadata": {
        "colab": {
          "base_uri": "https://localhost:8080/",
          "height": 35
        },
        "id": "KGay5lRunDwe",
        "outputId": "09f1f4fa-6b23-49ba-d13c-b313e38dbbab"
      },
      "execution_count": null,
      "outputs": [
        {
          "output_type": "execute_result",
          "data": {
            "text/plain": [
              "'안녕안녕안녕'"
            ],
            "application/vnd.google.colaboratory.intrinsic+json": {
              "type": "string"
            }
          },
          "metadata": {},
          "execution_count": 53
        }
      ]
    },
    {
      "cell_type": "code",
      "source": [
        "# 문제9: 주어진 숫자가 짝수인지 확인하는 함수를 만드세요. (짝수면 True, 홀수면 False 반환)\n",
        "def solution(number):\n",
        "    if number % 2 == 0:\n",
        "        return True\n",
        "    else:\n",
        "        return False\n",
        "\n",
        "solution(6)  # 결과: True\n",
        "# solution(9)  # 결과: False"
      ],
      "metadata": {
        "colab": {
          "base_uri": "https://localhost:8080/"
        },
        "id": "yWAXQs90nLu6",
        "outputId": "056487bb-8ff1-45ea-bef2-5ee656cee004"
      },
      "execution_count": null,
      "outputs": [
        {
          "output_type": "execute_result",
          "data": {
            "text/plain": [
              "True"
            ]
          },
          "metadata": {},
          "execution_count": 55
        }
      ]
    }
  ]
}